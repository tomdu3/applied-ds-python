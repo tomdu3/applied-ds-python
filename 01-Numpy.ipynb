{
 "cells": [
  {
   "cell_type": "markdown",
   "id": "da3099f5",
   "metadata": {},
   "source": [
    "# __Introduction to NumPy__"
   ]
  },
  {
   "cell_type": "markdown",
   "id": "fe912df8",
   "metadata": {},
   "source": [
    "## __Agenda__\n",
    "\n",
    "In this lesson, we will cover the following concepts with the help of examples:\n",
    "\n",
    "- Fundamentals of NumPy\n",
    "  * Advantages of NumPy\n",
    "  * NumPy: Installation and Import\n",
    "- NumPy: Array Object\n",
    "  * Creating NumPy Arrays"
   ]
  },
  {
   "cell_type": "markdown",
   "id": "7501f93c",
   "metadata": {
    "tags": []
   },
   "source": [
    "## __1. Fundamentals of NumPy__\n",
    "\n",
    "NumPy (Numerical Python) is a free and open-source library that is mostly used for mathematical operations in scientific and engineering applications.\n",
    "\n",
    "- It is a Python library used for working with arrays.\n",
    "- It consists of a multidimensional array of objects and a collection of functions for manipulating them.\n",
    "- It conducts mathematical and logical operations on arrays.\n",
    "\n",
    "**Note:** The array object in NumPy is called ndarray."
   ]
  },
  {
   "cell_type": "markdown",
   "id": "48d44cbf",
   "metadata": {},
   "source": [
    "### __1.1  Advantages of NumPy__\n",
    "- It provides an array object that is faster than traditional Python lists.\n",
    "- It provides supporting functions.\n",
    "- Arrays are frequently used in data science.\n",
    "- NumPy arrays are stored in one continuous place in memory, unlike lists."
   ]
  },
  {
   "cell_type": "markdown",
   "id": "a31e9a86",
   "metadata": {},
   "source": [
    "### __1.2 NumPy: Installation and Import__\n",
    "- `C:\\Users\\Your Name>pip install numpy` command is used to install NumPy.\n",
    "- NumPy is imported under the name np like `import numpy as np`"
   ]
  },
  {
   "cell_type": "code",
   "execution_count": 1,
   "id": "72447fef",
   "metadata": {},
   "outputs": [
    {
     "name": "stdout",
     "output_type": "stream",
     "text": [
      "Requirement already satisfied: numpy in c:\\users\\lenovo\\anaconda3\\lib\\site-packages (1.26.4)\n",
      "Note: you may need to restart the kernel to use updated packages.\n"
     ]
    }
   ],
   "source": [
    "pip install numpy"
   ]
  },
  {
   "cell_type": "code",
   "execution_count": 2,
   "id": "ac3077b9",
   "metadata": {},
   "outputs": [],
   "source": [
    "import numpy as np"
   ]
  },
  {
   "cell_type": "markdown",
   "id": "75e8f6c4",
   "metadata": {},
   "source": [
    "## __2. NumPy: Array Object__\n",
    "A NumPy ndarray object can be created by using the array() function."
   ]
  },
  {
   "cell_type": "code",
   "execution_count": 3,
   "id": "1192b350",
   "metadata": {},
   "outputs": [
    {
     "name": "stdout",
     "output_type": "stream",
     "text": [
      "[10 20 30 40 50]\n"
     ]
    }
   ],
   "source": [
    "arr = np.array([10,20,30,40,50])\n",
    "print(arr)"
   ]
  },
  {
   "cell_type": "code",
   "execution_count": 4,
   "id": "9ccbd945",
   "metadata": {},
   "outputs": [
    {
     "name": "stdout",
     "output_type": "stream",
     "text": [
      "<class 'numpy.ndarray'>\n"
     ]
    }
   ],
   "source": [
    "print(type(arr))"
   ]
  },
  {
   "cell_type": "code",
   "execution_count": 5,
   "id": "54d1a721",
   "metadata": {},
   "outputs": [
    {
     "name": "stdout",
     "output_type": "stream",
     "text": [
      "<class 'list'>\n"
     ]
    }
   ],
   "source": [
    "arr2 = [23,34,56]\n",
    "print(type(arr2))"
   ]
  },
  {
   "cell_type": "code",
   "execution_count": 6,
   "id": "815e387a",
   "metadata": {},
   "outputs": [
    {
     "name": "stdout",
     "output_type": "stream",
     "text": [
      "<class 'numpy.ndarray'>\n"
     ]
    }
   ],
   "source": [
    "arr2_new = np.array(arr2)\n",
    "print(type(arr2_new))"
   ]
  },
  {
   "cell_type": "code",
   "execution_count": 8,
   "id": "6513a7c3",
   "metadata": {},
   "outputs": [
    {
     "name": "stdout",
     "output_type": "stream",
     "text": [
      "[23 34 56]\n"
     ]
    }
   ],
   "source": [
    "print(arr2_new)"
   ]
  },
  {
   "cell_type": "markdown",
   "id": "94953f62",
   "metadata": {},
   "source": [
    "### __2.1 Creating NumPy Arrays__\n",
    "- Create multiple dimensional arrays, such as 0D, 1D, 2D and 3D"
   ]
  },
  {
   "cell_type": "code",
   "execution_count": 9,
   "id": "19a2b356",
   "metadata": {},
   "outputs": [
    {
     "name": "stdout",
     "output_type": "stream",
     "text": [
      "0D array is 24\n"
     ]
    }
   ],
   "source": [
    "# Create a 0D Array\n",
    "arr0 = np.array(24)\n",
    "print ('0D array is', arr0)"
   ]
  },
  {
   "cell_type": "code",
   "execution_count": 10,
   "id": "6ba23080",
   "metadata": {},
   "outputs": [
    {
     "name": "stdout",
     "output_type": "stream",
     "text": [
      "1D array is [1 2 3 4]\n"
     ]
    }
   ],
   "source": [
    "# Create a 1D Array\n",
    "arr1 = np.array([1,2,3,4])\n",
    "print ('1D array is', arr1)"
   ]
  },
  {
   "cell_type": "code",
   "execution_count": 11,
   "id": "2f907b22",
   "metadata": {},
   "outputs": [
    {
     "name": "stdout",
     "output_type": "stream",
     "text": [
      "2D array is [[1 2 3 4]\n",
      " [5 6 7 8]]\n"
     ]
    }
   ],
   "source": [
    "# Create a 2D Array\n",
    "arr1 = np.array([[1,2,3,4], [5,6,7,8]])\n",
    "print ('2D array is', arr1)"
   ]
  },
  {
   "cell_type": "code",
   "execution_count": 12,
   "id": "a63c7493",
   "metadata": {},
   "outputs": [
    {
     "name": "stdout",
     "output_type": "stream",
     "text": [
      "3D array is [[[1 1 1]\n",
      "  [2 2 2]]\n",
      "\n",
      " [[3 3 3]\n",
      "  [4 4 4]]]\n"
     ]
    }
   ],
   "source": [
    "# Create a 3D Array\n",
    "arr3 = np.array([[[1,1,1],[2,2,2]],[[3,3,3],[4,4,4]]])\n",
    "print ('3D array is', arr3)"
   ]
  },
  {
   "cell_type": "code",
   "execution_count": null,
   "id": "e9d63ac4",
   "metadata": {},
   "outputs": [],
   "source": []
  },
  {
   "cell_type": "markdown",
   "id": "23847bb0-3e3b-462a-9eb7-252c71c6d5ec",
   "metadata": {
    "id": "23847bb0-3e3b-462a-9eb7-252c71c6d5ec"
   },
   "source": [
    "# __Attributes and Functions in Python__"
   ]
  },
  {
   "cell_type": "markdown",
   "id": "0cf385a4-ad7d-4594-98f1-1eefa6e0869d",
   "metadata": {
    "id": "0cf385a4-ad7d-4594-98f1-1eefa6e0869d"
   },
   "source": [
    "## __Agenda__\n",
    "In this lesson, we will cover the following concepts with the help of examples:\n",
    "\n",
    "- Attributes of NumPy Arrays\n",
    "  * Explanation of Attributes\n",
    "- NumPy Array Functions"
   ]
  },
  {
   "cell_type": "markdown",
   "id": "0cd46bd7-a525-4e98-a7cd-d164e3c87961",
   "metadata": {
    "id": "0cd46bd7-a525-4e98-a7cd-d164e3c87961"
   },
   "source": [
    "## __1. Attributes of NumPy Arrays__ ##\n",
    "\n",
    "Few common attributes of NumPy array:"
   ]
  },
  {
   "cell_type": "markdown",
   "id": "eba8d5c5-433f-4f92-be11-c911417eb616",
   "metadata": {
    "id": "eba8d5c5-433f-4f92-be11-c911417eb616"
   },
   "source": [
    "![link text](https://labcontent.simplicdn.net/data-content/content-assets/Data_and_AI/ADSP_Images/Lesson_03_NumPy/2_Attributes_and_Functions_in_Python/Image_1.png)"
   ]
  },
  {
   "cell_type": "code",
   "execution_count": 13,
   "id": "0a9dad97",
   "metadata": {},
   "outputs": [],
   "source": [
    "arr = np.array([[1,2,3],[4,2,5]])"
   ]
  },
  {
   "cell_type": "code",
   "execution_count": 14,
   "id": "7f6d4f3c",
   "metadata": {},
   "outputs": [
    {
     "name": "stdout",
     "output_type": "stream",
     "text": [
      "No. of dimensions:  2\n"
     ]
    }
   ],
   "source": [
    "print(\"No. of dimensions: \", arr.ndim)"
   ]
  },
  {
   "cell_type": "code",
   "execution_count": 15,
   "id": "22e4aa3a",
   "metadata": {},
   "outputs": [
    {
     "name": "stdout",
     "output_type": "stream",
     "text": [
      "Shape of array:  (2, 3)\n"
     ]
    }
   ],
   "source": [
    "print(\"Shape of array: \", arr.shape)"
   ]
  },
  {
   "cell_type": "code",
   "execution_count": 16,
   "id": "c5722c2c",
   "metadata": {},
   "outputs": [
    {
     "name": "stdout",
     "output_type": "stream",
     "text": [
      "Size of array:  6\n"
     ]
    }
   ],
   "source": [
    "print(\"Size of array: \", arr.size)"
   ]
  },
  {
   "cell_type": "code",
   "execution_count": 17,
   "id": "41e036a2",
   "metadata": {},
   "outputs": [
    {
     "name": "stdout",
     "output_type": "stream",
     "text": [
      "Array stores elements of type:  int32\n"
     ]
    }
   ],
   "source": [
    "print(\"Array stores elements of type: \", arr.dtype)"
   ]
  },
  {
   "cell_type": "code",
   "execution_count": 18,
   "id": "92b7a90e",
   "metadata": {},
   "outputs": [
    {
     "name": "stdout",
     "output_type": "stream",
     "text": [
      "Length of one array element in bytes:  4\n"
     ]
    }
   ],
   "source": [
    "print(\"Length of one array element in bytes: \", arr.itemsize)"
   ]
  },
  {
   "cell_type": "code",
   "execution_count": 19,
   "id": "311aeeb4",
   "metadata": {},
   "outputs": [
    {
     "name": "stdout",
     "output_type": "stream",
     "text": [
      "Array's data:  <memory at 0x000001B78615FAC0>\n"
     ]
    }
   ],
   "source": [
    "print(\"Array's data: \", arr.data)"
   ]
  },
  {
   "cell_type": "markdown",
   "id": "3ae65e85-f49d-4dec-a23d-38844777a7e0",
   "metadata": {
    "id": "3ae65e85-f49d-4dec-a23d-38844777a7e0"
   },
   "source": [
    "### __1.1 Explanation of Attributes:__ ###\n",
    "- `ndarray.ndim`: It is the number of axes (dimensions) of the array.\n",
    "\n",
    "![link text](https://labcontent.simplicdn.net/data-content/content-assets/Data_and_AI/ADSP_Images/Lesson_03_NumPy/2_Attributes_and_Functions_in_Python/Image_2.png)\n",
    "\n",
    "- `ndarray.shape`: It provides the size of the array for each dimension. The output data type is a tuple.\n",
    "\n",
    "![link text](https://labcontent.simplicdn.net/data-content/content-assets/Data_and_AI/ADSP_Images/Lesson_03_NumPy/2_Attributes_and_Functions_in_Python/Image_3.png)\n",
    "\n",
    "- `ndarray.size` : It is the total number of elements in the array.\n",
    "\n",
    "![link text](https://labcontent.simplicdn.net/data-content/content-assets/Data_and_AI/ADSP_Images/Lesson_03_NumPy/2_Attributes_and_Functions_in_Python/Image_4.png)\n",
    "\n",
    "- `ndarray.dtype`: It shows the data type of the elements in the array.\n",
    "\n",
    "![link text](https://labcontent.simplicdn.net/data-content/content-assets/Data_and_AI/ADSP_Images/Lesson_03_NumPy/2_Attributes_and_Functions_in_Python/Image_5.png)\n",
    "\n",
    "- `ndarray.itemsize`: It shows the length of one array element in bytes.\n",
    "\n",
    "![link text](https://labcontent.simplicdn.net/data-content/content-assets/Data_and_AI/ADSP_Images/Lesson_03_NumPy/2_Attributes_and_Functions_in_Python/IMage_6.png)\n",
    "\n",
    "- `ndarray.data`: It is an attribute offering direct access to the raw memory of a NumPy array."
   ]
  },
  {
   "cell_type": "markdown",
   "id": "9c0e9d14-ccfe-4601-bf31-747a1f84690b",
   "metadata": {
    "id": "9c0e9d14-ccfe-4601-bf31-747a1f84690b"
   },
   "source": [
    "## __2. NumPy Array Functions__ ##\n",
    "![link text](https://labcontent.simplicdn.net/data-content/content-assets/Data_and_AI/ADSP_Images/Lesson_03_NumPy/2_Attributes_and_Functions_in_Python/Image_7.png)\n",
    "\n",
    "- `ndarray.reshape`: It is used to reshape (new shape) the current elements of an array."
   ]
  },
  {
   "cell_type": "code",
   "execution_count": 28,
   "id": "21ccebb1",
   "metadata": {},
   "outputs": [
    {
     "name": "stdout",
     "output_type": "stream",
     "text": [
      "[[ 1  2  3  4]\n",
      " [ 5  6  7  8]\n",
      " [ 9 10 11 12]]\n"
     ]
    }
   ],
   "source": [
    "# Example: Converting a 1D Array to a 2D Array\n",
    "arr = np.array([1,2,3,4,5,6,7,8,9,10,11,12])\n",
    "newarr = arr.reshape(3,4)\n",
    "print(newarr)"
   ]
  },
  {
   "cell_type": "code",
   "execution_count": 26,
   "id": "a1c8243d",
   "metadata": {},
   "outputs": [
    {
     "name": "stdout",
     "output_type": "stream",
     "text": [
      "[ 1  2  3  4  5  6  7  8  9 10 11 12]\n"
     ]
    }
   ],
   "source": [
    "# Converting a multidimensional(3D) array into a 1D array\n",
    "arr3D = np.array([[[1, 2, 3], [4, 5, 6]], [[7, 8, 9], [10, 11, 12]]])\n",
    "flattened_array = arr3D.flatten()\n",
    "print(flattened_array)"
   ]
  },
  {
   "cell_type": "code",
   "execution_count": 27,
   "id": "19b7f882",
   "metadata": {},
   "outputs": [
    {
     "name": "stdout",
     "output_type": "stream",
     "text": [
      "[[1 4]\n",
      " [2 5]\n",
      " [3 6]]\n"
     ]
    }
   ],
   "source": [
    "# Let's create a 2D array for the transpose example\n",
    "arr2D = np.array([[1, 2, 3], [4, 5, 6]])\n",
    "# Transposing the 2D array\n",
    "transposed_array = arr2D.transpose()\n",
    "print(transposed_array)"
   ]
  },
  {
   "cell_type": "markdown",
   "id": "88a02804-a8d8-43b9-9aa9-e68dc7e65678",
   "metadata": {
    "id": "88a02804-a8d8-43b9-9aa9-e68dc7e65678"
   },
   "source": [
    "## __Assisted Practice__"
   ]
  },
  {
   "cell_type": "markdown",
   "id": "2ddfcd79-86eb-40bd-b4fd-530a20cefc66",
   "metadata": {
    "id": "2ddfcd79-86eb-40bd-b4fd-530a20cefc66"
   },
   "source": [
    "### __Problem Statement:__\n",
    "\n",
    "As a data scientist, your task is to create a Python project that explores NumPy arrays' attributes and functions. This project will deepen your understanding of NumPy arrays, including accessing their attributes and performing common operations using NumPy functions. Use the dataset containing daily temperature records for a week.\n",
    "\n",
    "temperatures = [ 75.2, 77.1, 74.5, 79.3, 82.6, 81.2, 77.8 ]\n",
    "\n",
    "\n",
    "**Steps to Perform:**\n",
    "\n",
    "1. Explore the key attributes of NumPy arrays, including `ndim`, `shape`, `size`, `dtype`, `itemsize`, and `data`.\n",
    "2. Demonstrate important NumPy array functions such as `reshape`, `flatten`, and `transpose`."
   ]
  },
  {
   "cell_type": "code",
   "execution_count": 29,
   "id": "c706faed",
   "metadata": {},
   "outputs": [],
   "source": [
    "\n",
    "# Step 1: Create a NumPy array from the dataset\n",
    "temperatures = np.array([75.2, 77.1, 74.5, 79.3, 82.6, 81.2, 77.8])"
   ]
  },
  {
   "cell_type": "code",
   "execution_count": 36,
   "id": "e059795b",
   "metadata": {},
   "outputs": [
    {
     "name": "stdout",
     "output_type": "stream",
     "text": [
      "--- Attributes of the NumPy Array ---\n",
      "Number of dimensions:  1\n",
      "Shape of array:  (7,)\n",
      " Size of array:  7\n",
      "Type of array:  float64\n",
      "Itemsize of array:  8\n",
      "Reshaping of array:  [[75.2 77.1 74.5 79.3 82.6 81.2 77.8]]\n"
     ]
    }
   ],
   "source": [
    "# Step 2: Explore key attributes of the NumPy array\n",
    "print(\"--- Attributes of the NumPy Array ---\")\n",
    "print(\"Number of dimensions: \", temperatures.ndim)\n",
    "print(\"Shape of array: \", temperatures.shape)\n",
    "print(\" Size of array: \", temperatures.size)\n",
    "print(\"Type of array: \", temperatures.dtype)\n",
    "print(\"Itemsize of array: \", temperatures.itemsize)\n",
    "print(\"Reshaping of array: \", temperatures.reshape(1,7))"
   ]
  },
  {
   "cell_type": "code",
   "execution_count": null,
   "id": "db861c92",
   "metadata": {},
   "outputs": [],
   "source": []
  },
  {
   "cell_type": "markdown",
   "id": "71f69af7-b9a3-47b0-b1a7-43d231db8030",
   "metadata": {},
   "source": [
    "# __NumPy Arithmetic Statistical and String Functions__"
   ]
  },
  {
   "cell_type": "markdown",
   "id": "463e7ab1-7426-4526-a13f-dff8ab39f4ed",
   "metadata": {},
   "source": [
    "## __Agenda__\n",
    "\n",
    "In this lesson, we will cover the following concepts with the help of examples:\n",
    "- Arithmetic Operations Using NumPy\n",
    "  * Addition\n",
    "  * Subtraction\n",
    "  * Multiplication\n",
    "  * Division\n",
    "  * Power of\n",
    "- Statistical Function in Numpy\n",
    "  * Calculating Median, Mean, Standard Deviation, and Variance in the Array\n",
    "  * Calculating Percentiles\n",
    "- String Function in Numpy"
   ]
  },
  {
   "cell_type": "markdown",
   "id": "e66cb653-4b00-4156-8ac3-c99f3f935e48",
   "metadata": {},
   "source": [
    "## __1. Arithmetic Operations Using NumPy__ ##\n",
    "### __1.1 Addition__ ###"
   ]
  },
  {
   "cell_type": "code",
   "execution_count": 40,
   "id": "6625375a",
   "metadata": {},
   "outputs": [
    {
     "name": "stdout",
     "output_type": "stream",
     "text": [
      "[ 50 110  20]\n"
     ]
    }
   ],
   "source": [
    "a = np.array([30,20,10])\n",
    "b = np.array([20,90,10])\n",
    "result = np.add(a,b)\n",
    "print(result)"
   ]
  },
  {
   "cell_type": "markdown",
   "id": "49e66a1a-5c38-490c-b0fe-0d19c4a42974",
   "metadata": {},
   "source": [
    "### __1.2 Subtraction__ ###"
   ]
  },
  {
   "cell_type": "code",
   "execution_count": 38,
   "id": "8c36f79e",
   "metadata": {},
   "outputs": [
    {
     "name": "stdout",
     "output_type": "stream",
     "text": [
      "[[20 20 30]\n",
      " [10 40 10]]\n"
     ]
    }
   ],
   "source": [
    "a = np.array([[30,40,60], [50,70,90]])\n",
    "b = np.array([[10,20,30], [40,30,80]])\n",
    "result = np.subtract(a,b)\n",
    "print(result)"
   ]
  },
  {
   "cell_type": "markdown",
   "id": "914500b8",
   "metadata": {},
   "source": [
    "# Heading\n",
    "## Sub Heading\n",
    "### Sub sub heading\n",
    "#### one more\n",
    "##### one moremore"
   ]
  },
  {
   "cell_type": "markdown",
   "id": "3e709ed3-fae3-44ab-9001-2369326a3dd4",
   "metadata": {},
   "source": [
    "### __1.3 Multiplication__ ###"
   ]
  },
  {
   "cell_type": "code",
   "execution_count": 41,
   "id": "3dd2bc47",
   "metadata": {},
   "outputs": [
    {
     "name": "stdout",
     "output_type": "stream",
     "text": [
      "[300 400 300]\n"
     ]
    }
   ],
   "source": [
    "# Perform element-wise multiplication of two arrays using the 'np.multiply' method\n",
    "a = np.array([30,20,10])\n",
    "b = np.array([10,20,30])\n",
    "result = np.multiply(a,b)\n",
    "print(result)"
   ]
  },
  {
   "cell_type": "markdown",
   "id": "ba84975c-4826-422c-b05d-6c1f899406b8",
   "metadata": {},
   "source": [
    "### __1.4 Division__ ###"
   ]
  },
  {
   "cell_type": "code",
   "execution_count": 49,
   "id": "a91f730f",
   "metadata": {},
   "outputs": [
    {
     "name": "stdout",
     "output_type": "stream",
     "text": [
      "[[0.33333333 0.5        0.2       ]\n",
      " [0.5        0.4        0.5       ]]\n"
     ]
    }
   ],
   "source": [
    "# Perform element-wise division of two arrays using the 'np.divide' method\n",
    "a = np.array([[1,2,1],[2,2,3]])\n",
    "b = np.array([[3,4,5],[4,5,6]])\n",
    "result = np.divide(a,b)\n",
    "print(result)"
   ]
  },
  {
   "cell_type": "markdown",
   "id": "0a0df077-26b8-4a49-87d7-3c05862413f9",
   "metadata": {},
   "source": [
    "### __1.5 Power of__ ###"
   ]
  },
  {
   "cell_type": "code",
   "execution_count": 47,
   "id": "0f634807",
   "metadata": {},
   "outputs": [
    {
     "name": "stdout",
     "output_type": "stream",
     "text": [
      "[ 4  8 16 32 64]\n"
     ]
    }
   ],
   "source": [
    "# Perform element-wise power operation where each element in 'a' is raised to the corresponding element in 'b' using the 'np.power' method\n",
    "a = [2,2,2,2,2]\n",
    "b = [2,3,4,5,6]\n",
    "c = np.power(a,b)\n",
    "print(c)"
   ]
  },
  {
   "cell_type": "code",
   "execution_count": 48,
   "id": "85f81049",
   "metadata": {},
   "outputs": [
    {
     "name": "stdout",
     "output_type": "stream",
     "text": [
      "<class 'numpy.ndarray'>\n"
     ]
    }
   ],
   "source": [
    "print(type(c))"
   ]
  },
  {
   "cell_type": "code",
   "execution_count": 50,
   "id": "5c1ba047",
   "metadata": {},
   "outputs": [
    {
     "data": {
      "text/plain": [
       "float"
      ]
     },
     "execution_count": 50,
     "metadata": {},
     "output_type": "execute_result"
    }
   ],
   "source": [
    "a = 4.5\n",
    "type(a)"
   ]
  },
  {
   "cell_type": "code",
   "execution_count": 52,
   "id": "44973675",
   "metadata": {},
   "outputs": [
    {
     "name": "stdout",
     "output_type": "stream",
     "text": [
      "<class 'int'>\n"
     ]
    }
   ],
   "source": [
    "a = int(a)\n",
    "print(type(a))"
   ]
  },
  {
   "cell_type": "code",
   "execution_count": 53,
   "id": "427b304c",
   "metadata": {},
   "outputs": [
    {
     "name": "stdout",
     "output_type": "stream",
     "text": [
      "4\n"
     ]
    }
   ],
   "source": [
    "print(a)"
   ]
  },
  {
   "cell_type": "code",
   "execution_count": 54,
   "id": "084521ed",
   "metadata": {},
   "outputs": [
    {
     "name": "stdout",
     "output_type": "stream",
     "text": [
      "<class 'int'>\n"
     ]
    }
   ],
   "source": [
    "b = 4\n",
    "print(type(b))"
   ]
  },
  {
   "cell_type": "code",
   "execution_count": 55,
   "id": "1d0ebea5",
   "metadata": {},
   "outputs": [
    {
     "name": "stdout",
     "output_type": "stream",
     "text": [
      "4.0\n"
     ]
    }
   ],
   "source": [
    "b = float(b)\n",
    "print(b)"
   ]
  },
  {
   "cell_type": "markdown",
   "id": "249cda35-2cf7-4605-9492-6aaf29547b47",
   "metadata": {},
   "source": [
    "## __2. Statistical Function in Numpy__ ##\n",
    "### __2.1 Calculating Median, Mean, Standard Deviation, and Variance in the Array__ ###"
   ]
  },
  {
   "cell_type": "code",
   "execution_count": 56,
   "id": "f39ba4bb",
   "metadata": {},
   "outputs": [
    {
     "name": "stdout",
     "output_type": "stream",
     "text": [
      "4.0\n"
     ]
    }
   ],
   "source": [
    "# Median\n",
    "array = np.array([[4,3,2],[10,1,0],[5,8,24]])\n",
    "print(np.median(array))"
   ]
  },
  {
   "cell_type": "code",
   "execution_count": 57,
   "id": "50cf0c6e",
   "metadata": {},
   "outputs": [
    {
     "name": "stdout",
     "output_type": "stream",
     "text": [
      "6.333333333333333\n"
     ]
    }
   ],
   "source": [
    "print(np.mean(array))"
   ]
  },
  {
   "cell_type": "code",
   "execution_count": 58,
   "id": "f6266b4b",
   "metadata": {},
   "outputs": [
    {
     "name": "stdout",
     "output_type": "stream",
     "text": [
      "6.944222218666553\n"
     ]
    }
   ],
   "source": [
    "print(np.std(array))"
   ]
  },
  {
   "cell_type": "code",
   "execution_count": 59,
   "id": "e5f7c8ef",
   "metadata": {},
   "outputs": [
    {
     "data": {
      "text/plain": [
       "48.22222222222222"
      ]
     },
     "execution_count": 59,
     "metadata": {},
     "output_type": "execute_result"
    }
   ],
   "source": [
    "np.var(array)"
   ]
  },
  {
   "cell_type": "markdown",
   "id": "b3c908ef-fb26-4d59-85ac-3e507643252a",
   "metadata": {},
   "source": [
    "### __2.2 Calculating Percentiles__ ###\n",
    "- The `np.percentile()` function is used to compute the nth percentile of the array elements.\n",
    "- The nth percentile value should be in between 0 and 100."
   ]
  },
  {
   "cell_type": "code",
   "execution_count": 67,
   "id": "fffeeb24",
   "metadata": {},
   "outputs": [
    {
     "data": {
      "text/plain": [
       "4.0"
      ]
     },
     "execution_count": 67,
     "metadata": {},
     "output_type": "execute_result"
    }
   ],
   "source": [
    "np.percentile(array,50)"
   ]
  },
  {
   "cell_type": "markdown",
   "id": "65e5fcb5-3f10-476f-b302-ceac8bb76ad0",
   "metadata": {},
   "source": [
    "## __3. String Function in Numpy__ ##"
   ]
  },
  {
   "cell_type": "code",
   "execution_count": 69,
   "id": "49c0d71b",
   "metadata": {},
   "outputs": [
    {
     "name": "stdout",
     "output_type": "stream",
     "text": [
      "['HelloWelcome' 'WorldLearners']\n"
     ]
    }
   ],
   "source": [
    "# Perform element-wise string concatenation for two arrays of string\n",
    "x = np.array(['Hello', 'World'])\n",
    "y = np.array(['Welcome', 'Learners'])\n",
    "result = np.char.add(x,y)\n",
    "print(result)"
   ]
  },
  {
   "cell_type": "code",
   "execution_count": 70,
   "id": "db3e0258",
   "metadata": {},
   "outputs": [
    {
     "data": {
      "text/plain": [
       "['Hello', 'World', 'Welcome', 'Learners']"
      ]
     },
     "execution_count": 70,
     "metadata": {},
     "output_type": "execute_result"
    }
   ],
   "source": [
    "x = ['Hello', 'World']\n",
    "y = ['Welcome', 'Learners']\n",
    "x+y"
   ]
  },
  {
   "cell_type": "code",
   "execution_count": 71,
   "id": "28cb4566",
   "metadata": {},
   "outputs": [
    {
     "name": "stdout",
     "output_type": "stream",
     "text": [
      "Hello How are you\n"
     ]
    }
   ],
   "source": [
    "# Replacing the old substring with the new substring\n",
    "str = \"Hello How are you\"\n",
    "print(str)"
   ]
  },
  {
   "cell_type": "code",
   "execution_count": 72,
   "id": "3ab074b5",
   "metadata": {},
   "outputs": [
    {
     "name": "stdout",
     "output_type": "stream",
     "text": [
      "Hi How are you\n"
     ]
    }
   ],
   "source": [
    "z = np.char.replace(str,'Hello', 'Hi')\n",
    "print(z)"
   ]
  },
  {
   "cell_type": "code",
   "execution_count": 73,
   "id": "536818ba",
   "metadata": {},
   "outputs": [
    {
     "name": "stdout",
     "output_type": "stream",
     "text": [
      "hello how are you\n"
     ]
    }
   ],
   "source": [
    "# Converting all lowercase characters in a string to uppercase and vice-versa\n",
    "str1 = \"hello how are you\"\n",
    "print(str1)"
   ]
  },
  {
   "cell_type": "code",
   "execution_count": 74,
   "id": "9c7fd570",
   "metadata": {},
   "outputs": [
    {
     "name": "stdout",
     "output_type": "stream",
     "text": [
      "HELLO HOW ARE YOU\n"
     ]
    }
   ],
   "source": [
    "z = np.char.upper(str1)\n",
    "print(z)"
   ]
  },
  {
   "cell_type": "code",
   "execution_count": 75,
   "id": "585784a4",
   "metadata": {},
   "outputs": [
    {
     "name": "stdout",
     "output_type": "stream",
     "text": [
      "GREETINGS OF THE DAY\n"
     ]
    }
   ],
   "source": [
    "str2 = \"GREETINGS OF THE DAY\"\n",
    "print(str2)"
   ]
  },
  {
   "cell_type": "code",
   "execution_count": 76,
   "id": "911e17c1",
   "metadata": {},
   "outputs": [
    {
     "name": "stdout",
     "output_type": "stream",
     "text": [
      "greetings of the day\n"
     ]
    }
   ],
   "source": [
    "s = np.char.lower(str2)\n",
    "print(s)"
   ]
  },
  {
   "cell_type": "markdown",
   "id": "0862a3aa-8b30-4e99-bf04-c1555516da51",
   "metadata": {
    "id": "0862a3aa-8b30-4e99-bf04-c1555516da51"
   },
   "source": [
    "## __Assisted Practice__"
   ]
  },
  {
   "cell_type": "markdown",
   "id": "ca2e9fbf-d9b8-4421-a8f4-53934c7e8e67",
   "metadata": {},
   "source": [
    "### __Problem Statement:__\n",
    "\n",
    "Consider the following arrays:\n",
    "\n",
    "- Arrays for Arithmetic Operations:\n",
    "  * Array A: [15, 25, 35, 45, 55]\n",
    "  * Array B: [5, 10, 15, 20, 25]\n",
    "\n",
    "- Array for Statistical Operations:\n",
    "  * Array C: [12, 22, 32, 42, 52, 62, 72, 82, 92, 102]\n",
    "\n",
    "- Arrays for String Functions:\n",
    "  * String Array X: ['Hello', 'Data', 'Science', 'Class', 'Learners']\n",
    "  * String Array Y: ['World', 'Analysis', 'is', 'Fun', '2023']\n",
    "  \n",
    "  \n",
    "__Steps to Perform:__\n",
    "\n",
    "1. Perform element-wise addition, subtraction, multiplication, division, and power operations on Arrays A and B\n",
    "2. Calculate the median, mean, standard deviation, and variance for Array C\n",
    "3. Concatenate corresponding elements of String Arrays X and Y\n",
    "4. Convert all elements in String Array X to uppercase\n",
    "5. Replace a specific substring in String Array Y with another substring"
   ]
  },
  {
   "cell_type": "code",
   "execution_count": 77,
   "id": "4120c277",
   "metadata": {},
   "outputs": [
    {
     "name": "stdout",
     "output_type": "stream",
     "text": [
      "[20 35 50 65 80]\n"
     ]
    }
   ],
   "source": [
    "a = np.array([15,25,35,45,55])\n",
    "b = np.array([5,10,15,20,25])\n",
    "add = np.add(a,b)\n",
    "print(add)"
   ]
  },
  {
   "cell_type": "code",
   "execution_count": 78,
   "id": "de717719",
   "metadata": {},
   "outputs": [
    {
     "name": "stdout",
     "output_type": "stream",
     "text": [
      "[10 15 20 25 30]\n"
     ]
    }
   ],
   "source": [
    "print(np.subtract(a,b))"
   ]
  },
  {
   "cell_type": "code",
   "execution_count": 79,
   "id": "66566b58",
   "metadata": {},
   "outputs": [
    {
     "name": "stdout",
     "output_type": "stream",
     "text": [
      "[  75  250  525  900 1375]\n"
     ]
    }
   ],
   "source": [
    "print(np.multiply(a,b))"
   ]
  },
  {
   "cell_type": "code",
   "execution_count": 80,
   "id": "ec9b2eee",
   "metadata": {},
   "outputs": [
    {
     "name": "stdout",
     "output_type": "stream",
     "text": [
      "[3.         2.5        2.33333333 2.25       2.2       ]\n"
     ]
    }
   ],
   "source": [
    "print(np.divide(a,b))"
   ]
  },
  {
   "cell_type": "code",
   "execution_count": 81,
   "id": "83ff3bad",
   "metadata": {},
   "outputs": [
    {
     "name": "stdout",
     "output_type": "stream",
     "text": [
      "[     759375  1977800241 -2091638453 -1924594607   447042167]\n"
     ]
    }
   ],
   "source": [
    "print(np.power(a,b))"
   ]
  },
  {
   "cell_type": "code",
   "execution_count": 82,
   "id": "b3fa0c8c",
   "metadata": {},
   "outputs": [
    {
     "name": "stdout",
     "output_type": "stream",
     "text": [
      "57.0\n"
     ]
    }
   ],
   "source": [
    "c = np.array( [12, 22, 32, 42, 52, 62, 72, 82, 92, 102])\n",
    "print(np.mean(c))"
   ]
  },
  {
   "cell_type": "code",
   "execution_count": 83,
   "id": "9303e6e5",
   "metadata": {},
   "outputs": [
    {
     "data": {
      "text/plain": [
       "57.0"
      ]
     },
     "execution_count": 83,
     "metadata": {},
     "output_type": "execute_result"
    }
   ],
   "source": [
    "np.median(c)"
   ]
  },
  {
   "cell_type": "code",
   "execution_count": 84,
   "id": "2bd32bdf",
   "metadata": {},
   "outputs": [
    {
     "data": {
      "text/plain": [
       "28.722813232690143"
      ]
     },
     "execution_count": 84,
     "metadata": {},
     "output_type": "execute_result"
    }
   ],
   "source": [
    "np.std(c)"
   ]
  },
  {
   "cell_type": "code",
   "execution_count": 85,
   "id": "69db7481",
   "metadata": {},
   "outputs": [
    {
     "data": {
      "text/plain": [
       "825.0"
      ]
     },
     "execution_count": 85,
     "metadata": {},
     "output_type": "execute_result"
    }
   ],
   "source": [
    "np.var(c)"
   ]
  },
  {
   "cell_type": "code",
   "execution_count": 86,
   "id": "569626b4",
   "metadata": {},
   "outputs": [],
   "source": [
    "x = np.array( ['Hello', 'Data', 'Science', 'Class', 'Learners'])\n",
    "y = np.array(['World', 'Analysis', 'is', 'Fun', '2023'])"
   ]
  },
  {
   "cell_type": "code",
   "execution_count": 87,
   "id": "221cb66a",
   "metadata": {},
   "outputs": [
    {
     "name": "stdout",
     "output_type": "stream",
     "text": [
      "['HelloWorld' 'DataAnalysis' 'Scienceis' 'ClassFun' 'Learners2023']\n"
     ]
    }
   ],
   "source": [
    "print(np.char.add(x,y))"
   ]
  },
  {
   "cell_type": "code",
   "execution_count": 89,
   "id": "1dbb80cd",
   "metadata": {},
   "outputs": [
    {
     "name": "stdout",
     "output_type": "stream",
     "text": [
      "['WORLD' 'ANALYSIS' 'IS' 'FUN' '2023']\n"
     ]
    }
   ],
   "source": [
    "print(np.char.upper(y))"
   ]
  },
  {
   "cell_type": "code",
   "execution_count": 91,
   "id": "0640c36a",
   "metadata": {},
   "outputs": [
    {
     "name": "stdout",
     "output_type": "stream",
     "text": [
      "['World' 'Analysis' 'is' 'Fun' '2025']\n"
     ]
    }
   ],
   "source": [
    "print(np.char.replace(y, '2023', '2025'))"
   ]
  },
  {
   "cell_type": "code",
   "execution_count": null,
   "id": "85d9c181",
   "metadata": {},
   "outputs": [],
   "source": []
  },
  {
   "cell_type": "markdown",
   "id": "38ab0a4b",
   "metadata": {},
   "source": [
    "# __Indexing__"
   ]
  },
  {
   "cell_type": "markdown",
   "id": "1dc7eae6",
   "metadata": {},
   "source": [
    "## __Agenda__\n",
    "In this lesson, we will cover the following concepts with the help of examples:\n",
    "\n",
    "- NumPy Array Indexing\n",
    "  * Access Elements in the 1D NumPy Array\n",
    "  * Access Elements in the 2D NumPy Array\n",
    "  * Access Elements in 3D NumPy Array\n",
    "  * Negative Indexing"
   ]
  },
  {
   "cell_type": "markdown",
   "id": "091e9165",
   "metadata": {},
   "source": [
    "## __1. NumPy Array Indexing__ ##\n",
    "NumPy indexing allows you to access an array element using an index value, which begins from 0.\n",
    "\n",
    "![link text](https://labcontent.simplicdn.net/data-content/content-assets/Data_and_AI/ADSP_Images/Lesson_03_NumPy/4_Indexing/Image_1.png)"
   ]
  },
  {
   "cell_type": "code",
   "execution_count": null,
   "id": "bf223f9f",
   "metadata": {},
   "outputs": [],
   "source": [
    "# Let's create 1D, 2D and 3D NumPy arrays:\n",
    "import numpy as np\n",
    "array_1d = np.array([1,2,3,4,5,6])\n",
    "array_2d = np.array([[1,2,3],[4,5,6]])\n",
    "array_3d = np.array([[[1,2,3],[4,5,6]],[[7,8,9],[10,11,12]]])"
   ]
  },
  {
   "cell_type": "markdown",
   "id": "59e8c5c9",
   "metadata": {},
   "source": [
    "### __1.1 Access Elements in the 1D NumPy Array__ ###"
   ]
  },
  {
   "cell_type": "code",
   "execution_count": null,
   "id": "7927b071",
   "metadata": {},
   "outputs": [
    {
     "name": "stdout",
     "output_type": "stream",
     "text": [
      "4\n"
     ]
    }
   ],
   "source": [
    "print(array_1d[3])"
   ]
  },
  {
   "cell_type": "code",
   "execution_count": null,
   "id": "3fdc0637",
   "metadata": {},
   "outputs": [
    {
     "ename": "IndexError",
     "evalue": "index 7 is out of bounds for axis 0 with size 6",
     "output_type": "error",
     "traceback": [
      "\u001b[1;31m---------------------------------------------------------------------------\u001b[0m\n",
      "\u001b[1;31mIndexError\u001b[0m                                Traceback (most recent call last)\n",
      "Cell \u001b[1;32mIn[3], line 1\u001b[0m\n",
      "\u001b[1;32m----> 1\u001b[0m \u001b[38;5;28mprint\u001b[39m(array_1d[\u001b[38;5;241m7\u001b[39m])\n",
      "\n",
      "\u001b[1;31mIndexError\u001b[0m: index 7 is out of bounds for axis 0 with size 6"
     ]
    }
   ],
   "source": [
    "print(array_1d[7])"
   ]
  },
  {
   "cell_type": "code",
   "execution_count": null,
   "id": "6033f456",
   "metadata": {},
   "outputs": [
    {
     "name": "stdout",
     "output_type": "stream",
     "text": [
      "3\n"
     ]
    }
   ],
   "source": [
    "print(array_1d[1] + array_1d[0])"
   ]
  },
  {
   "cell_type": "markdown",
   "id": "5d6583e7",
   "metadata": {},
   "source": [
    "### __1.2 Access Elements in the 2D NumPy Array__\n",
    "Consider a 2D array as a table, with dimensions as rows and indexes as columns.\n",
    "\n",
    "![link text](https://labcontent.simplicdn.net/data-content/content-assets/Data_and_AI/ADSP_Images/Lesson_03_NumPy/4_Indexing/Image_2.png)"
   ]
  },
  {
   "cell_type": "code",
   "execution_count": null,
   "id": "39bc433a",
   "metadata": {},
   "outputs": [
    {
     "name": "stdout",
     "output_type": "stream",
     "text": [
      "[[1 2 3]\n",
      " [4 5 6]]\n"
     ]
    }
   ],
   "source": [
    "array_2d = np.array([[1,2,3],[4,5,6]])\n",
    "print(array_2d)"
   ]
  },
  {
   "cell_type": "code",
   "execution_count": null,
   "id": "a5c6540f",
   "metadata": {},
   "outputs": [
    {
     "name": "stdout",
     "output_type": "stream",
     "text": [
      "3\n"
     ]
    }
   ],
   "source": [
    "print(array_2d[0,2])"
   ]
  },
  {
   "cell_type": "code",
   "execution_count": null,
   "id": "18c727f7",
   "metadata": {},
   "outputs": [
    {
     "name": "stdout",
     "output_type": "stream",
     "text": [
      "5\n"
     ]
    }
   ],
   "source": [
    "print(array_2d[1,1])"
   ]
  },
  {
   "cell_type": "markdown",
   "id": "1dd68695",
   "metadata": {},
   "source": [
    "### __1.3 Access Elements in 3D NumPy Array__ ###\n",
    "- [x,y,z] corresponds to xth element, yth row, and zth column."
   ]
  },
  {
   "cell_type": "code",
   "execution_count": null,
   "id": "f3aa9da1",
   "metadata": {},
   "outputs": [],
   "source": [
    "array_3d = np.array([[[1,2,3],[4,5,6]],[[7,8,9],[10,11,12]]])"
   ]
  },
  {
   "cell_type": "code",
   "execution_count": null,
   "id": "e34d0e59",
   "metadata": {},
   "outputs": [
    {
     "name": "stdout",
     "output_type": "stream",
     "text": [
      "10\n"
     ]
    }
   ],
   "source": [
    "print(array_3d[1,1,0])"
   ]
  },
  {
   "cell_type": "code",
   "execution_count": null,
   "id": "8021525b",
   "metadata": {},
   "outputs": [
    {
     "name": "stdout",
     "output_type": "stream",
     "text": [
      "6\n"
     ]
    }
   ],
   "source": [
    "print(array_3d[0,1,2])"
   ]
  },
  {
   "cell_type": "markdown",
   "id": "e11510e4",
   "metadata": {},
   "source": [
    "### __1.4 Negative Indexing__\n",
    "\n",
    "- Negative indices are counted from the end of an array.\n",
    "- In a negative indexing system, the last element will be the first element with an index of -1, the second last element with an index of -2, and so on."
   ]
  },
  {
   "cell_type": "code",
   "execution_count": null,
   "id": "d3a7f7cf",
   "metadata": {},
   "outputs": [],
   "source": [
    "# Let's create 1D, 2D and 3D NumPy arrays:\n",
    "import numpy as np\n",
    "array_1d = np.array([1,2,3,4,5,6])\n",
    "array_2d = np.array([[1,2,3],[4,5,6]])\n",
    "array_3d = np.array([[[1,2,3],[4,5,6]],[[7,8,9],[10,11,12]]])"
   ]
  },
  {
   "cell_type": "code",
   "execution_count": null,
   "id": "401ba0b4",
   "metadata": {},
   "outputs": [
    {
     "name": "stdout",
     "output_type": "stream",
     "text": [
      "4\n"
     ]
    }
   ],
   "source": [
    "print(array_1d[-3])"
   ]
  },
  {
   "cell_type": "code",
   "execution_count": null,
   "id": "2b8f34fe",
   "metadata": {},
   "outputs": [
    {
     "name": "stdout",
     "output_type": "stream",
     "text": [
      "6\n"
     ]
    }
   ],
   "source": [
    "print(array_2d[1,-1])"
   ]
  },
  {
   "cell_type": "code",
   "execution_count": null,
   "id": "a91e6c06",
   "metadata": {},
   "outputs": [
    {
     "name": "stdout",
     "output_type": "stream",
     "text": [
      "12\n"
     ]
    }
   ],
   "source": [
    "print(array_3d[1,1,-1])"
   ]
  },
  {
   "cell_type": "markdown",
   "id": "5fe76c36",
   "metadata": {},
   "source": [
    "## __Assisted Practice__"
   ]
  },
  {
   "cell_type": "markdown",
   "id": "7315df3c",
   "metadata": {},
   "source": [
    "### __Problem Statement:__\n",
    "\n",
    "1. Create a 1D NumPy array with at least 10 elements\n",
    "2. Create a 2D NumPy array with a minimum of 3 rows and 4 columns\n",
    "3. Create a 3D NumPy array with at least 2 matrices, each containing 2 rows and 3 columns\n",
    "4. Accessing Elements in Arrays\n",
    "5. Access and print various elements from 1D, 2D, and, 3D using positive indexing\n",
    "6. Perform and print some basic arithmetic operations (like addition, subtraction) using elements accessed from 1D, 2D, and, 3D arrays\n",
    "7. Access and print elements using negative indices in all three arrays"
   ]
  },
  {
   "cell_type": "code",
   "execution_count": null,
   "id": "eaedcb05",
   "metadata": {},
   "outputs": [],
   "source": [
    "# Create a 1D NumPy array with at least 10 elements\n",
    "array_1d = np.array([1, 2, 3, 4, 5, 6, 7, 8, 9, 10])\n",
    "\n",
    "# Create a 2D NumPy array with a minimum of 3 rows and 4 columns\n",
    "array_2d = np.array([[11, 12, 13, 14], [15, 16, 17, 18], [19, 20, 21, 22]])\n",
    "\n",
    "# Create a 3D NumPy array with at least 2 matrices, each containing 2 rows and 3 columns\n",
    "array_3d = np.array([[[1, 2, 3], [4, 5, 6]], [[7, 8, 9], [10, 11, 12]]])"
   ]
  },
  {
   "cell_type": "markdown",
   "id": "3e456b83",
   "metadata": {},
   "source": [
    "4 as positive index\n",
    "6 as negative index"
   ]
  },
  {
   "cell_type": "code",
   "execution_count": null,
   "id": "923c0d3d",
   "metadata": {},
   "outputs": [
    {
     "name": "stdout",
     "output_type": "stream",
     "text": [
      "4\n"
     ]
    }
   ],
   "source": [
    "print(array_1d[3])"
   ]
  },
  {
   "cell_type": "code",
   "execution_count": null,
   "id": "bf4e3bc5",
   "metadata": {},
   "outputs": [
    {
     "name": "stdout",
     "output_type": "stream",
     "text": [
      "6\n"
     ]
    }
   ],
   "source": [
    "print(array_1d[-5])"
   ]
  },
  {
   "cell_type": "markdown",
   "id": "ba7adbc7",
   "metadata": {},
   "source": [
    "#### 2d array = 15 from positive index and 19 from negative index"
   ]
  },
  {
   "cell_type": "code",
   "execution_count": null,
   "id": "3fa6655b",
   "metadata": {},
   "outputs": [
    {
     "name": "stdout",
     "output_type": "stream",
     "text": [
      "15\n"
     ]
    }
   ],
   "source": [
    "print(array_2d[1,0])"
   ]
  },
  {
   "cell_type": "code",
   "execution_count": null,
   "id": "96af9d24",
   "metadata": {},
   "outputs": [
    {
     "name": "stdout",
     "output_type": "stream",
     "text": [
      "19\n"
     ]
    }
   ],
   "source": [
    "print(array_2d[-1,-4])"
   ]
  },
  {
   "cell_type": "markdown",
   "id": "6e49b396",
   "metadata": {},
   "source": [
    "#### 3d array = 5 from positive index and 3 from negative index"
   ]
  },
  {
   "cell_type": "code",
   "execution_count": null,
   "id": "15cdedcf",
   "metadata": {},
   "outputs": [
    {
     "name": "stdout",
     "output_type": "stream",
     "text": [
      "5\n"
     ]
    }
   ],
   "source": [
    "print(array_3d[0,1,1])"
   ]
  },
  {
   "cell_type": "code",
   "execution_count": null,
   "id": "554582ba",
   "metadata": {},
   "outputs": [
    {
     "name": "stdout",
     "output_type": "stream",
     "text": [
      "3\n"
     ]
    }
   ],
   "source": [
    "print(array_3d[-2,-2,-1])"
   ]
  },
  {
   "cell_type": "code",
   "execution_count": null,
   "id": "607121e1",
   "metadata": {},
   "outputs": [
    {
     "name": "stdout",
     "output_type": "stream",
     "text": [
      "Position: (0, 0, 0), Value: 1\n",
      "Position: (0, 0, 1), Value: 2\n",
      "Position: (0, 0, 2), Value: 3\n",
      "Position: (0, 1, 0), Value: 4\n",
      "Position: (0, 1, 1), Value: 5\n",
      "Position: (0, 1, 2), Value: 6\n",
      "Position: (1, 0, 0), Value: 7\n",
      "Position: (1, 0, 1), Value: 8\n",
      "Position: (1, 0, 2), Value: 9\n",
      "Position: (1, 1, 0), Value: 10\n",
      "Position: (1, 1, 1), Value: 11\n",
      "Position: (1, 1, 2), Value: 12\n"
     ]
    }
   ],
   "source": [
    "import numpy as np\n",
    "\n",
    "array_3d = np.array([[[1, 2, 3], [4, 5, 6]], \n",
    "                      [[7, 8, 9], [10, 11, 12]]])\n",
    "\n",
    "# Print positions (indices) of all elements\n",
    "for index in np.ndindex(array_3d.shape):\n",
    "    print(f\"Position: {index}, Value: {array_3d[index]}\")\n"
   ]
  },
  {
   "cell_type": "markdown",
   "id": "adda8378",
   "metadata": {},
   "source": [
    "# __Slicing__"
   ]
  },
  {
   "cell_type": "markdown",
   "id": "99446216",
   "metadata": {},
   "source": [
    "## __Agenda__\n",
    "In this lesson, we will cover the following concepts with the help of examples:\n",
    "\n",
    "- NumPy Array Slicing\n",
    "  * Slicing 1D NumPy Arrays\n",
    "  * Slicing Using Step Value\n",
    "  * Slicing: 2D Array\n",
    "  * Slicing: 3D Array\n",
    "  * Negative Slicing"
   ]
  },
  {
   "cell_type": "markdown",
   "id": "b4e3d4b1",
   "metadata": {},
   "source": [
    "## __1. NumPy Array Slicing__\n",
    "\n",
    "- In Python, slicing refers to moving elements from one index to another.\n",
    "- Instead of using an index, the slice is passed as **[start:end]**.\n",
    "- Another way to pass the slice is to add a step as **[start:end:step]**.\n",
    "- In slicing, if the starting is not passed, it is considered as 0. If the step is not passed as 1 and if the end is not passed, it is considered as the length of the array in that dimension."
   ]
  },
  {
   "cell_type": "code",
   "execution_count": null,
   "id": "40539f50",
   "metadata": {},
   "outputs": [],
   "source": [
    "Employee_rating = np.array([1, 4, 3, 5, 6, 8, 9, 10, 12])"
   ]
  },
  {
   "cell_type": "code",
   "execution_count": null,
   "id": "e7994115",
   "metadata": {},
   "outputs": [
    {
     "name": "stdout",
     "output_type": "stream",
     "text": [
      "[4 3 5 6 8 9]\n"
     ]
    }
   ],
   "source": [
    "print(Employee_rating[1:7])"
   ]
  },
  {
   "cell_type": "code",
   "execution_count": null,
   "id": "6f21c5e0",
   "metadata": {},
   "outputs": [],
   "source": [
    "Books = np.array(['Physics','DataScience','Maths','Python','Hadoop', 'OPPs', 'Java', 'Cloud'])"
   ]
  },
  {
   "cell_type": "code",
   "execution_count": null,
   "id": "5c29122c",
   "metadata": {},
   "outputs": [
    {
     "name": "stdout",
     "output_type": "stream",
     "text": [
      "['OPPs' 'Java' 'Cloud']\n"
     ]
    }
   ],
   "source": [
    "print(Books[5:])"
   ]
  },
  {
   "cell_type": "code",
   "execution_count": null,
   "id": "7e16be7d",
   "metadata": {},
   "outputs": [
    {
     "name": "stdout",
     "output_type": "stream",
     "text": [
      "['Physics' 'DataScience' 'Maths']\n"
     ]
    }
   ],
   "source": [
    "print(Books[:3])"
   ]
  },
  {
   "cell_type": "markdown",
   "id": "12bf2bf5",
   "metadata": {},
   "source": [
    "### __1.2 Slicing Using Step Value__"
   ]
  },
  {
   "cell_type": "code",
   "execution_count": null,
   "id": "c2eabe89",
   "metadata": {},
   "outputs": [
    {
     "name": "stdout",
     "output_type": "stream",
     "text": [
      "[7 4]\n"
     ]
    }
   ],
   "source": [
    "X = np.array([8, 7, 6, 5, 4, 3, 2, 1])\n",
    "print(X[1:6:3])"
   ]
  },
  {
   "cell_type": "code",
   "execution_count": null,
   "id": "4ccc15e1",
   "metadata": {},
   "outputs": [
    {
     "name": "stdout",
     "output_type": "stream",
     "text": [
      "[6 4 2]\n"
     ]
    }
   ],
   "source": [
    "print(X[2::2])"
   ]
  },
  {
   "cell_type": "markdown",
   "id": "0fe909bf",
   "metadata": {},
   "source": [
    "### Negative slicing"
   ]
  },
  {
   "cell_type": "code",
   "execution_count": null,
   "id": "30d2dd3e",
   "metadata": {},
   "outputs": [],
   "source": [
    "Neg_slice = np.array([13, 34, 58, 69, 44, 56, 37,24])"
   ]
  },
  {
   "cell_type": "code",
   "execution_count": null,
   "id": "0bf2868b",
   "metadata": {},
   "outputs": [
    {
     "name": "stdout",
     "output_type": "stream",
     "text": [
      "[13 34 58 69 44 56 37]\n"
     ]
    }
   ],
   "source": [
    "print(Neg_slice[:-1])"
   ]
  },
  {
   "cell_type": "code",
   "execution_count": null,
   "id": "bf9fcc7d",
   "metadata": {},
   "outputs": [
    {
     "name": "stdout",
     "output_type": "stream",
     "text": [
      "[13 34 58 69 44]\n"
     ]
    }
   ],
   "source": [
    "print(Neg_slice[:-3])"
   ]
  }
 ],
 "metadata": {
  "kernelspec": {
   "display_name": "Python 3 (ipykernel)",
   "language": "python",
   "name": "python3"
  },
  "language_info": {
   "codemirror_mode": {
    "name": "ipython",
    "version": 3
   },
   "file_extension": ".py",
   "mimetype": "text/x-python",
   "name": "python",
   "nbconvert_exporter": "python",
   "pygments_lexer": "ipython3",
   "version": "3.11.5"
  }
 },
 "nbformat": 4,
 "nbformat_minor": 5
}
